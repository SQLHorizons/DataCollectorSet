{
    "metadata": {
        "kernelspec": {
            "name": "powershell",
            "display_name": "PowerShell"
        },
        "language_info": {
            "name": "powershell",
            "codemirror_mode": "shell",
            "mimetype": "text/x-sh",
            "file_extension": ".ps1"
        }
    },
    "nbformat_minor": 2,
    "nbformat": 4,
    "cells": [
        {
            "cell_type": "markdown",
            "source": [
                "# DataCollectorSet\r\n",
                "\r\n",
                "## Initialise-workspace\r\n",
                "\r\n",
                "Set Execution Policy:\r\n",
                ""
            ],
            "metadata": {
                "azdata_cell_guid": "23749a2c-f95e-436c-b54c-326885638970"
            }
        },
        {
            "cell_type": "code",
            "source": [
                "$ExecutionPolicy = @{\r\n",
                "    ExecutionPolicy = \"Unrestricted\"\r\n",
                "    Scope           = \"Process\"\r\n",
                "    Force           = $true\r\n",
                "}\r\n",
                "Set-ExecutionPolicy @ExecutionPolicy"
            ],
            "metadata": {
                "azdata_cell_guid": "19ee0ab6-feec-44b8-b6e1-e2d6bd46ebba",
                "tags": []
            },
            "outputs": [],
            "execution_count": null
        },
        {
            "cell_type": "markdown",
            "source": [
                "## Module\r\n",
                "\r\n",
                "Load 'DataCollector' module:"
            ],
            "metadata": {
                "azdata_cell_guid": "b865c0e9-82dc-48b9-9d37-1455aa7323a7"
            }
        },
        {
            "cell_type": "code",
            "source": [
                "Push-Location \"D:\\.source\\repos\\DataCollectorSet\\DataCollector\"\r\n",
                "Import-Module .\\DataCollector.psm1 -Force"
            ],
            "metadata": {
                "azdata_cell_guid": "57a19422-d3c9-47ff-9951-f0038918aa43",
                "tags": []
            },
            "outputs": [],
            "execution_count": null
        },
        {
            "cell_type": "code",
            "source": [
                "##  Positive test.\n",
                "$DataCollectorSet = Get-DataCollectorSet test"
            ],
            "metadata": {
                "azdata_cell_guid": "29bc64e1-4628-4db1-92c3-2ac38f001ba3",
                "tags": []
            },
            "outputs": [],
            "execution_count": null
        },
        {
            "cell_type": "code",
            "source": [
                "##  Negative test.\r\n",
                "$DataCollectorSet = Get-DataCollectorSet unit"
            ],
            "metadata": {
                "azdata_cell_guid": "4cb5ca16-677e-4b18-94e2-2ff29288dd3c",
                "tags": []
            },
            "outputs": [],
            "execution_count": null
        },
        {
            "cell_type": "code",
            "source": [
                "if ( $DataCollectorSet -eq $false ) {\r\n",
                "    New-DataCollectorSet unit\r\n",
                "}"
            ],
            "metadata": {
                "azdata_cell_guid": "e8ee740e-8568-4dff-a9da-2a8d385fbf0f"
            },
            "outputs": [],
            "execution_count": null
        },
        {
            "cell_type": "code",
            "source": [
                "$DataCollectors = New-DataCollector\r\n",
                "\r\n",
                "$DataCollectorSet.DataCollectors.Add($DataCollectors)\r\n",
                "$DataCollectorSet.Commit(\"test\",$null,0x0003) | Out-Null;"
            ],
            "metadata": {
                "azdata_cell_guid": "144e0c1f-e9f1-4f4f-9251-116a8ed49181"
            },
            "outputs": [],
            "execution_count": null
        }
    ]
}